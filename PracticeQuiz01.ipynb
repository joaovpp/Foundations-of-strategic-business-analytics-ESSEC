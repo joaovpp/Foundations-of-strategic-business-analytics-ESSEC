{
 "cells": [
  {
   "cell_type": "markdown",
   "id": "6da200a9",
   "metadata": {},
   "source": [
    "# First Quiz\n",
    "\n",
    "## Dataset column description\n",
    "HHID: a unique ID per household\n",
    "\n",
    "TIME: the i-th time the Household is buying pastas\n",
    "\n",
    "PASTA: Number of pasta bought not an integer because this is n value ($,€...)\n",
    "\n",
    "EXPO: the number of advertisement seen by the household since the last time the bought pasta\n",
    "\n",
    "AGE: Socio demo variable, average age of the household\n",
    "\n",
    "INCOME: Socio demo variable, average income of the household\n",
    "\n",
    "AREA: the area where lives the household (integer from 1 to 5)"
   ]
  },
  {
   "cell_type": "code",
   "execution_count": 8,
   "id": "d7ed6f74",
   "metadata": {},
   "outputs": [],
   "source": [
    "import pandas as pd\n",
    "import matplotlib.pyplot as plt\n",
    "import numpy as np"
   ]
  },
  {
   "cell_type": "code",
   "execution_count": 4,
   "id": "ebd24548",
   "metadata": {},
   "outputs": [
    {
     "data": {
      "text/html": [
       "<div>\n",
       "<style scoped>\n",
       "    .dataframe tbody tr th:only-of-type {\n",
       "        vertical-align: middle;\n",
       "    }\n",
       "\n",
       "    .dataframe tbody tr th {\n",
       "        vertical-align: top;\n",
       "    }\n",
       "\n",
       "    .dataframe thead th {\n",
       "        text-align: right;\n",
       "    }\n",
       "</style>\n",
       "<table border=\"1\" class=\"dataframe\">\n",
       "  <thead>\n",
       "    <tr style=\"text-align: right;\">\n",
       "      <th></th>\n",
       "      <th>HHID</th>\n",
       "      <th>TIME</th>\n",
       "      <th>PASTA</th>\n",
       "      <th>EXPOS</th>\n",
       "      <th>AGE</th>\n",
       "      <th>INCOME</th>\n",
       "      <th>AREA</th>\n",
       "    </tr>\n",
       "  </thead>\n",
       "  <tbody>\n",
       "    <tr>\n",
       "      <th>0</th>\n",
       "      <td>1</td>\n",
       "      <td>1</td>\n",
       "      <td>0.939444</td>\n",
       "      <td>1</td>\n",
       "      <td>61.710758</td>\n",
       "      <td>25186.798772</td>\n",
       "      <td>3</td>\n",
       "    </tr>\n",
       "    <tr>\n",
       "      <th>1</th>\n",
       "      <td>1</td>\n",
       "      <td>2</td>\n",
       "      <td>2.560969</td>\n",
       "      <td>2</td>\n",
       "      <td>61.710758</td>\n",
       "      <td>25186.798772</td>\n",
       "      <td>3</td>\n",
       "    </tr>\n",
       "    <tr>\n",
       "      <th>2</th>\n",
       "      <td>1</td>\n",
       "      <td>3</td>\n",
       "      <td>0.901123</td>\n",
       "      <td>0</td>\n",
       "      <td>61.710758</td>\n",
       "      <td>25186.798772</td>\n",
       "      <td>3</td>\n",
       "    </tr>\n",
       "    <tr>\n",
       "      <th>3</th>\n",
       "      <td>1</td>\n",
       "      <td>4</td>\n",
       "      <td>1.916530</td>\n",
       "      <td>1</td>\n",
       "      <td>61.710758</td>\n",
       "      <td>25186.798772</td>\n",
       "      <td>3</td>\n",
       "    </tr>\n",
       "    <tr>\n",
       "      <th>4</th>\n",
       "      <td>1</td>\n",
       "      <td>5</td>\n",
       "      <td>1.548751</td>\n",
       "      <td>0</td>\n",
       "      <td>61.710758</td>\n",
       "      <td>25186.798772</td>\n",
       "      <td>3</td>\n",
       "    </tr>\n",
       "  </tbody>\n",
       "</table>\n",
       "</div>"
      ],
      "text/plain": [
       "   HHID  TIME     PASTA  EXPOS        AGE        INCOME  AREA\n",
       "0     1     1  0.939444      1  61.710758  25186.798772     3\n",
       "1     1     2  2.560969      2  61.710758  25186.798772     3\n",
       "2     1     3  0.901123      0  61.710758  25186.798772     3\n",
       "3     1     4  1.916530      1  61.710758  25186.798772     3\n",
       "4     1     5  1.548751      0  61.710758  25186.798772     3"
      ]
     },
     "execution_count": 4,
     "metadata": {},
     "output_type": "execute_result"
    }
   ],
   "source": [
    "# Dataset\n",
    "df = pd.read_csv(\"Datasets/PASTAPURCHASE_EDITED.csv\")\n",
    "df.head()"
   ]
  },
  {
   "cell_type": "markdown",
   "id": "ca7b4682",
   "metadata": {},
   "source": [
    "## 1. What is the correct mean and standard deviation of the quantity of pasta purchased by time unit by household?"
   ]
  },
  {
   "cell_type": "code",
   "execution_count": 82,
   "id": "bdebf406",
   "metadata": {},
   "outputs": [
    {
     "data": {
      "text/plain": [
       "1.841544538544135"
      ]
     },
     "execution_count": 82,
     "metadata": {},
     "output_type": "execute_result"
    }
   ],
   "source": [
    "hhid = range(1, 2001)\n",
    "mean_total = 0\n",
    "for i in hhid:\n",
    "    df_temp = df[df['HHID'] == i]\n",
    "    mean = df_temp['PASTA'].sum() / df_temp['TIME'].max()\n",
    "    mean_total += mean\n",
    "mean_total / 2000"
   ]
  },
  {
   "cell_type": "markdown",
   "id": "35bd9cdb",
   "metadata": {},
   "source": [
    "## 2. In which area are located (i) the poorest household and (ii) the wealthiest household?"
   ]
  },
  {
   "cell_type": "code",
   "execution_count": 73,
   "id": "f789b452",
   "metadata": {},
   "outputs": [
    {
     "name": "stdout",
     "output_type": "stream",
     "text": [
      "MIN: 2\n",
      "MIN: 5\n"
     ]
    }
   ],
   "source": [
    "df_min = df[df['INCOME'] == df['INCOME'].min()]\n",
    "print(\"MIN:\", df_min['AREA'].iloc[0])\n",
    "\n",
    "df_max = df[df['INCOME'] == df['INCOME'].max()]\n",
    "print(\"MIN:\", df_max['AREA'].iloc[0])"
   ]
  },
  {
   "cell_type": "markdown",
   "id": "6ebd7f57",
   "metadata": {},
   "source": [
    "## 3. What is the maximum pasta quantity a household has bought over the whole time period? (Sum the quantity of pasta by household over time and indicate the maximum)"
   ]
  },
  {
   "cell_type": "code",
   "execution_count": 85,
   "id": "f741e1e4",
   "metadata": {},
   "outputs": [
    {
     "name": "stdout",
     "output_type": "stream",
     "text": [
      "Higher HHID: 1493\n",
      "Total Pasta: 55.36193058243067\n"
     ]
    }
   ],
   "source": [
    "hhid = range(1, 2001)\n",
    "maior_hhid = 0\n",
    "total_pasta = 0\n",
    "for i in hhid:\n",
    "    df_temp = df[df['HHID'] == i]\n",
    "    total = df_temp['PASTA'].sum()\n",
    "    if total > total_pasta:\n",
    "        total_pasta = total\n",
    "        maior_hhid = i\n",
    "print(\"Higher HHID:\", maior_hhid) \n",
    "print(\"Total Pasta:\", total_pasta)"
   ]
  },
  {
   "cell_type": "markdown",
   "id": "12e88925",
   "metadata": {},
   "source": [
    "## 4. What is the average income of households living in area 4?"
   ]
  },
  {
   "cell_type": "code",
   "execution_count": 86,
   "id": "ef5526f8",
   "metadata": {},
   "outputs": [
    {
     "name": "stdout",
     "output_type": "stream",
     "text": [
      "Avg. Income Area 4: 29260.133137349334\n"
     ]
    }
   ],
   "source": [
    "df_temp = df[df['AREA'] == 4]\n",
    "total_income = 0\n",
    "for _ in df_temp['HHID'].unique():\n",
    "    df_temp2 = df_temp[df_temp['HHID'] == _]\n",
    "    total_income += df_temp2['INCOME'].iloc[0]\n",
    "print(\"Avg. Income Area 4:\", total_income / len(df_temp['HHID'].unique()))"
   ]
  },
  {
   "cell_type": "markdown",
   "id": "c52ab0cf",
   "metadata": {},
   "source": [
    "## 5. How many households live in area 2, earn more than 20k, and have purchased more than 30 units of pasta over the whole time period? "
   ]
  },
  {
   "cell_type": "code",
   "execution_count": 78,
   "id": "d2b1063b",
   "metadata": {},
   "outputs": [
    {
     "data": {
      "text/plain": [
       "218"
      ]
     },
     "execution_count": 78,
     "metadata": {},
     "output_type": "execute_result"
    }
   ],
   "source": [
    "df_area2 = df[df['AREA'] == 2]\n",
    "df_area2 = df_area2[df_area2['INCOME'] >= 20000]\n",
    "lista_hhid = []\n",
    "for _ in df_area2['HHID'].unique():\n",
    "    df_temp = df_area2[df_area2['HHID'] == _]\n",
    "    if df_temp['PASTA'].sum() > 30:\n",
    "        lista_hhid.append(_)\n",
    "len(lista_hhid)"
   ]
  },
  {
   "cell_type": "markdown",
   "id": "1d35d4b0",
   "metadata": {},
   "source": [
    "## 6. What is the correlation between the purchases of pasta and the exposures?"
   ]
  },
  {
   "cell_type": "code",
   "execution_count": 81,
   "id": "1181b471",
   "metadata": {},
   "outputs": [
    {
     "data": {
      "text/plain": [
       "0.32661737731864954"
      ]
     },
     "execution_count": 81,
     "metadata": {},
     "output_type": "execute_result"
    }
   ],
   "source": [
    "df['PASTA'].corr(df['EXPOS'])"
   ]
  },
  {
   "cell_type": "markdown",
   "id": "8405e0fa",
   "metadata": {},
   "source": [
    "## 7. Which of the following graphs reports the correct histogram by household of the total purchase of pasta made by the household over the whole period? (Sum the purchases by household and make a histogram.)\n",
    "\n",
    "Note that\n",
    "the color or exact representation may be different in your version."
   ]
  },
  {
   "cell_type": "code",
   "execution_count": 96,
   "id": "607f8a56",
   "metadata": {},
   "outputs": [
    {
     "data": {
      "image/png": "[encoded data removed]",
      "text/plain": [
       "<Figure size 432x288 with 1 Axes>"
      ]
     },
     "metadata": {
      "needs_background": "light"
     },
     "output_type": "display_data"
    }
   ],
   "source": [
    "list_total_pasta = []\n",
    "for _ in df['HHID'].unique():\n",
    "    df_temp = df[df['HHID'] == _]\n",
    "    list_total_pasta.append(df_temp['PASTA'].sum())\n",
    "    \n",
    "plt.hist(list_total_pasta)\n",
    "plt.title(\"Total Pasta\")\n",
    "plt.ylabel(\"Frequency - $\")\n",
    "plt.show()"
   ]
  },
  {
   "cell_type": "markdown",
   "id": "aaaad110",
   "metadata": {},
   "source": [
    "## 8. Which of the following graphs reports the correct time series of the overall total purchase of pasta? (Sum the purchases by time units and plot the quantity by time unit.)"
   ]
  },
  {
   "cell_type": "code",
   "execution_count": 13,
   "id": "cec2f122",
   "metadata": {},
   "outputs": [
    {
     "data": {
      "image/png": "[encoded data removed]",
      "text/plain": [
       "<Figure size 432x288 with 1 Axes>"
      ]
     },
     "metadata": {
      "needs_background": "light"
     },
     "output_type": "display_data"
    }
   ],
   "source": [
    "list_total_time = []\n",
    "list_total_pasta = []\n",
    "for i in df['TIME'].unique():\n",
    "    df_temp = df[df['TIME'] == i]\n",
    "    list_total_pasta.append(df_temp['PASTA'].sum())\n",
    "    list_total_time.append(i)\n",
    "    \n",
    "# plot\n",
    "fig, ax = plt.subplots()\n",
    "\n",
    "ax.scatter(list_total_time, list_total_pasta)\n",
    "plt.show()"
   ]
  }
 ],
 "metadata": {
  "kernelspec": {
   "display_name": "Python 3 (ipykernel)",
   "language": "python",
   "name": "python3"
  },
  "language_info": {
   "codemirror_mode": {
    "name": "ipython",
    "version": 3
   },
   "file_extension": ".py",
   "mimetype": "text/x-python",
   "name": "python",
   "nbconvert_exporter": "python",
   "pygments_lexer": "ipython3",
   "version": "3.9.7"
  }
 },
 "nbformat": 4,
 "nbformat_minor": 5
}
